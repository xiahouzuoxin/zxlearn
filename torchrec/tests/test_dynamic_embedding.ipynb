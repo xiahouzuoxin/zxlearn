{
 "cells": [
  {
   "cell_type": "code",
   "execution_count": 2,
   "metadata": {},
   "outputs": [],
   "source": [
    "%load_ext autoreload\n",
    "%autoreload 2"
   ]
  },
  {
   "cell_type": "code",
   "execution_count": 4,
   "metadata": {},
   "outputs": [],
   "source": [
    "import sys\n",
    "sys.path.append('..')\n",
    "from core.embedding import DynamicEmbedding"
   ]
  },
  {
   "cell_type": "code",
   "execution_count": 5,
   "metadata": {},
   "outputs": [],
   "source": [
    "import torch\n",
    "import torch.nn as nn"
   ]
  },
  {
   "cell_type": "code",
   "execution_count": 6,
   "metadata": {},
   "outputs": [
    {
     "name": "stdout",
     "output_type": "stream",
     "text": [
      "torch.Size([5, 5]) torch.Size([6, 5])\n"
     ]
    }
   ],
   "source": [
    "# a example with multiple DynamicEmbedding input\n",
    "class Model(nn.Module):\n",
    "    def __init__(self, num1=15, num2=6):\n",
    "        super(Model, self).__init__()\n",
    "        self.embedding = DynamicEmbedding(num1, 5)\n",
    "        self.embedding2 = DynamicEmbedding(num2, 5)\n",
    "        \n",
    "    def forward(self, input1, input2):\n",
    "        x = self.embedding(input1)\n",
    "        y = self.embedding2(input2)\n",
    "        return torch.cat([x, y], dim=0)\n",
    "    \n",
    "model = Model(5,6)\n",
    "print(model.embedding.weight.size(), model.embedding2.weight.size())"
   ]
  },
  {
   "cell_type": "code",
   "execution_count": 7,
   "metadata": {},
   "outputs": [
    {
     "name": "stdout",
     "output_type": "stream",
     "text": [
      "torch.Size([10, 5]) torch.Size([6, 5])\n"
     ]
    }
   ],
   "source": [
    "input1 = torch.tensor([1, 2, 3, 4, 5, 6, 7, 8, 9])\n",
    "input2 = torch.tensor([1, 2, 3, ])\n",
    "output = model(input1, input2)\n",
    "print(model.embedding.weight.size(), model.embedding2.weight.size())"
   ]
  },
  {
   "cell_type": "code",
   "execution_count": 8,
   "metadata": {},
   "outputs": [
    {
     "name": "stdout",
     "output_type": "stream",
     "text": [
      "OrderedDict([('embedding.weight', tensor([[ 1.1280e+00,  3.9055e-01,  8.2299e-01, -1.2272e+00,  4.8498e-01],\n",
      "        [ 9.2700e-01, -2.0108e+00,  1.0568e+00, -3.0009e-01,  2.4440e-01],\n",
      "        [ 6.6834e-01, -1.9345e-01, -6.4626e-02, -3.5916e-01,  4.0533e-01],\n",
      "        [ 1.4340e+00, -2.4748e+00, -1.8726e-01, -1.2751e+00, -1.3032e+00],\n",
      "        [-1.4983e+00,  1.7136e-01, -3.6637e-01,  5.6329e-01, -5.2384e-01],\n",
      "        [-9.7674e-03, -1.7440e-03,  8.6025e-03, -1.8360e-02,  1.2186e-03],\n",
      "        [-3.9954e-04, -1.3366e-03,  6.6590e-03,  1.1241e-02, -1.5539e-02],\n",
      "        [-1.2303e-02,  2.5090e-02, -2.1531e-03,  9.3852e-03, -5.6663e-03],\n",
      "        [ 4.8505e-03,  6.0322e-03, -2.4419e-03, -1.2256e-03, -1.8537e-03],\n",
      "        [ 2.8349e-02,  1.5478e-02,  1.0614e-02, -4.5508e-03, -1.1830e-03]])), ('embedding2.weight', tensor([[-0.7751,  0.3055, -0.0654,  0.1134,  0.5393],\n",
      "        [-0.6537, -0.5598, -0.1161,  0.3020,  0.5350],\n",
      "        [-2.8224,  0.5778, -0.0312, -0.5369,  0.4897],\n",
      "        [-0.4364, -0.9347,  1.4894,  0.2743, -0.9489],\n",
      "        [ 1.0011, -0.7192, -0.7900, -1.0402, -0.1413],\n",
      "        [ 0.0770,  0.1711, -0.6199,  0.1183,  0.6146]]))])\n",
      "torch.Size([10, 5]) torch.Size([15, 5])\n"
     ]
    }
   ],
   "source": [
    "state = model.state_dict()\n",
    "print(state)\n",
    "\n",
    "model2 = Model(num1=8, num2=15)\n",
    "model2.load_state_dict(state)\n",
    "print(model2.embedding.weight.size(), model2.embedding2.weight.size())"
   ]
  }
 ],
 "metadata": {
  "kernelspec": {
   "display_name": "base",
   "language": "python",
   "name": "python3"
  },
  "language_info": {
   "codemirror_mode": {
    "name": "ipython",
    "version": 3
   },
   "file_extension": ".py",
   "mimetype": "text/x-python",
   "name": "python",
   "nbconvert_exporter": "python",
   "pygments_lexer": "ipython3",
   "version": "3.1.-1"
  }
 },
 "nbformat": 4,
 "nbformat_minor": 2
}
