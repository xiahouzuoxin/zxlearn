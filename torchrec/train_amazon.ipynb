{
 "cells": [
  {
   "cell_type": "code",
   "execution_count": 1,
   "metadata": {},
   "outputs": [],
   "source": [
    "%load_ext autoreload\n",
    "%autoreload 2"
   ]
  },
  {
   "cell_type": "code",
   "execution_count": 2,
   "metadata": {},
   "outputs": [],
   "source": [
    "import random\n",
    "import numpy as np\n",
    "import pandas as pd\n",
    "\n",
    "import torch\n",
    "from torch.utils.data import Dataset, DataLoader\n",
    "from torch import nn\n",
    "\n",
    "import torch.optim as optim\n",
    "import torch.optim.lr_scheduler as lr_scheduler\n",
    "from torch.optim import Adam"
   ]
  },
  {
   "cell_type": "code",
   "execution_count": 3,
   "metadata": {},
   "outputs": [],
   "source": [
    "pd.options.mode.chained_assignment = None  # default='warn'\n",
    "pd.options.display.max_rows = 999\n",
    "pd.options.display.max_columns = 100"
   ]
  },
  {
   "cell_type": "code",
   "execution_count": 4,
   "metadata": {},
   "outputs": [
    {
     "name": "stdout",
     "output_type": "stream",
     "text": [
      "cpu\n"
     ]
    }
   ],
   "source": [
    "device = torch.device('cuda:0' if torch.cuda.is_available() else 'cpu')\n",
    "print(device)"
   ]
  },
  {
   "cell_type": "markdown",
   "metadata": {},
   "source": [
    "## Load data"
   ]
  },
  {
   "cell_type": "code",
   "execution_count": 5,
   "metadata": {},
   "outputs": [],
   "source": [
    "import joblib\n",
    "\n",
    "df_samples = joblib.load('data/amazon_data.pkl')"
   ]
  },
  {
   "cell_type": "code",
   "execution_count": 6,
   "metadata": {},
   "outputs": [
    {
     "data": {
      "text/plain": [
       "192403"
      ]
     },
     "execution_count": 6,
     "metadata": {},
     "output_type": "execute_result"
    }
   ],
   "source": [
    "len( df_samples['reviewerID'].unique() )"
   ]
  },
  {
   "cell_type": "code",
   "execution_count": 7,
   "metadata": {},
   "outputs": [
    {
     "data": {
      "text/plain": [
       "63001"
      ]
     },
     "execution_count": 7,
     "metadata": {},
     "output_type": "execute_result"
    }
   ],
   "source": [
    "len( df_samples['asin'].unique() )"
   ]
  },
  {
   "cell_type": "code",
   "execution_count": 8,
   "metadata": {},
   "outputs": [
    {
     "data": {
      "text/plain": [
       "3526"
      ]
     },
     "execution_count": 8,
     "metadata": {},
     "output_type": "execute_result"
    }
   ],
   "source": [
    "len( df_samples['brand'].unique() )"
   ]
  },
  {
   "cell_type": "code",
   "execution_count": 9,
   "metadata": {},
   "outputs": [
    {
     "data": {
      "text/plain": [
       "801"
      ]
     },
     "execution_count": 9,
     "metadata": {},
     "output_type": "execute_result"
    }
   ],
   "source": [
    "len( df_samples['categories'].unique() )"
   ]
  },
  {
   "cell_type": "markdown",
   "metadata": {},
   "source": [
    "## Create pytorch dataset"
   ]
  },
  {
   "cell_type": "code",
   "execution_count": 10,
   "metadata": {},
   "outputs": [],
   "source": [
    "feat_configs = [\n",
    "    {\"name\": \"reviewerID\", \"dtype\": \"category\", \"emb_dim\": 12, \"min_freq\": 3, \"hash_buckets\": 1000000},\n",
    "    {\"name\": \"asin\", \"dtype\": \"category\", \"emb_dim\": 12, \"min_freq\": 3, \"hash_buckets\": 1000000},\n",
    "    \n",
    "    {\"name\": \"price\", \"dtype\": \"numerical\", \"norm\": \"std\"},\n",
    "    {\"name\": \"brand\", \"dtype\": \"category\", \"min_freq\": 3, \"emb_dim\": 12},\n",
    "    {\"name\": \"categories\", \"dtype\": \"category\", \"min_freq\": 3, \"emb_dim\": 12},\n",
    "\n",
    "    {\"name\": \"his_asin_seq\", \"dtype\": \"category\", \"islist\": True, \"min_freq\": 3, \"emb_dim\": 12, \"hash_buckets\": 1000000},\n",
    "]"
   ]
  },
  {
   "cell_type": "code",
   "execution_count": 11,
   "metadata": {},
   "outputs": [
    {
     "name": "stdout",
     "output_type": "stream",
     "text": [
      "1352538 336650\n"
     ]
    }
   ],
   "source": [
    "from core.sample import traintest_split\n",
    "\n",
    "df_train, df_test = traintest_split(df_samples, test_size=0.2, shuffle=True, group_id='reviewerID')\n",
    "print(len(df_train), len(df_test))"
   ]
  },
  {
   "cell_type": "code",
   "execution_count": 12,
   "metadata": {},
   "outputs": [
    {
     "name": "stdout",
     "output_type": "stream",
     "text": [
      "==> Feature transforming (is_train=True), note that feat_configs will be updated when is_train=True...\n"
     ]
    }
   ],
   "source": [
    "from core.dataset import DataFrameDataset, feature_transform\n",
    "\n",
    "df_train = feature_transform(df_train, feat_configs, is_train=True)\n",
    "# feat_configs"
   ]
  },
  {
   "cell_type": "code",
   "execution_count": 13,
   "metadata": {},
   "outputs": [
    {
     "data": {
      "text/html": [
       "<div>\n",
       "<style scoped>\n",
       "    .dataframe tbody tr th:only-of-type {\n",
       "        vertical-align: middle;\n",
       "    }\n",
       "\n",
       "    .dataframe tbody tr th {\n",
       "        vertical-align: top;\n",
       "    }\n",
       "\n",
       "    .dataframe thead th {\n",
       "        text-align: right;\n",
       "    }\n",
       "</style>\n",
       "<table border=\"1\" class=\"dataframe\">\n",
       "  <thead>\n",
       "    <tr style=\"text-align: right;\">\n",
       "      <th></th>\n",
       "      <th>reviewerID</th>\n",
       "      <th>asin</th>\n",
       "      <th>unixReviewTime</th>\n",
       "      <th>overall</th>\n",
       "      <th>title</th>\n",
       "      <th>price</th>\n",
       "      <th>brand</th>\n",
       "      <th>categories</th>\n",
       "      <th>label</th>\n",
       "      <th>his_asin_seq</th>\n",
       "    </tr>\n",
       "  </thead>\n",
       "  <tbody>\n",
       "    <tr>\n",
       "      <th>314370</th>\n",
       "      <td>720607</td>\n",
       "      <td>942600</td>\n",
       "      <td>1375660800</td>\n",
       "      <td>4.0</td>\n",
       "      <td>B+W 58mm Kaesemann Circular Polarizer with Mul...</td>\n",
       "      <td>0.118381</td>\n",
       "      <td>150</td>\n",
       "      <td>196</td>\n",
       "      <td>1</td>\n",
       "      <td>[-100, -100, -100, -100, -100, -100, -100, -10...</td>\n",
       "    </tr>\n",
       "    <tr>\n",
       "      <th>538816</th>\n",
       "      <td>885984</td>\n",
       "      <td>597768</td>\n",
       "      <td>1342137600</td>\n",
       "      <td>5.0</td>\n",
       "      <td>OtterBox Defender Series Case with Screen Prot...</td>\n",
       "      <td>-0.075831</td>\n",
       "      <td>75</td>\n",
       "      <td>0</td>\n",
       "      <td>1</td>\n",
       "      <td>[-100, -100, -100, -100, -100, -100, -100, -10...</td>\n",
       "    </tr>\n",
       "    <tr>\n",
       "      <th>194675</th>\n",
       "      <td>949944</td>\n",
       "      <td>277383</td>\n",
       "      <td>1397088000</td>\n",
       "      <td>5.0</td>\n",
       "      <td>Olympus VN-702PC Voice Recorder</td>\n",
       "      <td>-0.124243</td>\n",
       "      <td>52</td>\n",
       "      <td>139</td>\n",
       "      <td>1</td>\n",
       "      <td>[-100, -100, -100, -100, -100, -100, -100, -10...</td>\n",
       "    </tr>\n",
       "    <tr>\n",
       "      <th>543055</th>\n",
       "      <td>63023</td>\n",
       "      <td>273198</td>\n",
       "      <td>1357516800</td>\n",
       "      <td>4.0</td>\n",
       "      <td>Manfrotto 701HDV Pro Fluid Video Mini Head</td>\n",
       "      <td>1.823619</td>\n",
       "      <td>0</td>\n",
       "      <td>152</td>\n",
       "      <td>1</td>\n",
       "      <td>[-100, -100, -100, -100, -100, -100, -100, -10...</td>\n",
       "    </tr>\n",
       "    <tr>\n",
       "      <th>355447</th>\n",
       "      <td>604816</td>\n",
       "      <td>70388</td>\n",
       "      <td>1365724800</td>\n",
       "      <td>4.0</td>\n",
       "      <td>Bear Motion Luxury Buffalo Hide Vintage Leathe...</td>\n",
       "      <td>-0.196901</td>\n",
       "      <td>543</td>\n",
       "      <td>0</td>\n",
       "      <td>1</td>\n",
       "      <td>[-100, -100, -100, -100, -100, -100, -100, -10...</td>\n",
       "    </tr>\n",
       "  </tbody>\n",
       "</table>\n",
       "</div>"
      ],
      "text/plain": [
       "        reviewerID    asin  unixReviewTime  overall  \\\n",
       "314370      720607  942600      1375660800      4.0   \n",
       "538816      885984  597768      1342137600      5.0   \n",
       "194675      949944  277383      1397088000      5.0   \n",
       "543055       63023  273198      1357516800      4.0   \n",
       "355447      604816   70388      1365724800      4.0   \n",
       "\n",
       "                                                    title     price  brand  \\\n",
       "314370  B+W 58mm Kaesemann Circular Polarizer with Mul...  0.118381    150   \n",
       "538816  OtterBox Defender Series Case with Screen Prot... -0.075831     75   \n",
       "194675                    Olympus VN-702PC Voice Recorder -0.124243     52   \n",
       "543055         Manfrotto 701HDV Pro Fluid Video Mini Head  1.823619      0   \n",
       "355447  Bear Motion Luxury Buffalo Hide Vintage Leathe... -0.196901    543   \n",
       "\n",
       "        categories  label                                       his_asin_seq  \n",
       "314370         196      1  [-100, -100, -100, -100, -100, -100, -100, -10...  \n",
       "538816           0      1  [-100, -100, -100, -100, -100, -100, -100, -10...  \n",
       "194675         139      1  [-100, -100, -100, -100, -100, -100, -100, -10...  \n",
       "543055         152      1  [-100, -100, -100, -100, -100, -100, -100, -10...  \n",
       "355447           0      1  [-100, -100, -100, -100, -100, -100, -100, -10...  "
      ]
     },
     "execution_count": 13,
     "metadata": {},
     "output_type": "execute_result"
    }
   ],
   "source": [
    "df_train.head()"
   ]
  },
  {
   "cell_type": "code",
   "execution_count": 14,
   "metadata": {},
   "outputs": [],
   "source": [
    "df_test = feature_transform(df_test, feat_configs, is_train=False)"
   ]
  },
  {
   "cell_type": "code",
   "execution_count": 15,
   "metadata": {},
   "outputs": [],
   "source": [
    "sparse_cols = [f['name'] for f in feat_configs if f['type'] == 'sparse' and not f.get('islist')]\n",
    "seq_sparse_cols = [f['name'] for f in feat_configs if f['type'] == 'sparse' and f.get('islist')]\n",
    "dense_cols = ['price',]\n",
    "target_cols = ['label', ]"
   ]
  },
  {
   "cell_type": "code",
   "execution_count": 16,
   "metadata": {},
   "outputs": [],
   "source": [
    "train_dataset = DataFrameDataset(\n",
    "    df_train, \n",
    "    sparse_cols, \n",
    "    seq_sparse_cols, \n",
    "    dense_cols, \n",
    "    seq_dense_cols=None, \n",
    "    target_cols=target_cols, \n",
    "    padding_value=-100\n",
    ").to(device)\n",
    "\n",
    "test_dataset = DataFrameDataset(\n",
    "    df_test, \n",
    "    sparse_cols, \n",
    "    seq_sparse_cols, \n",
    "    dense_cols, \n",
    "    seq_dense_cols=None, \n",
    "    target_cols=target_cols, \n",
    "    padding_value=-100\n",
    ").to(device)"
   ]
  },
  {
   "cell_type": "code",
   "execution_count": 17,
   "metadata": {},
   "outputs": [],
   "source": [
    "train_dataloader = DataLoader(train_dataset, batch_size=512, num_workers=8, shuffle=True)\n",
    "test_dataloader = DataLoader(test_dataset, batch_size=512, num_workers=8, shuffle=False)"
   ]
  },
  {
   "cell_type": "code",
   "execution_count": 18,
   "metadata": {},
   "outputs": [
    {
     "name": "stdout",
     "output_type": "stream",
     "text": [
      "2642\n",
      "{'dense_features': tensor([[-0.0757]]), 'reviewerID': tensor([[807445]], dtype=torch.int32), 'asin': tensor([[470008]], dtype=torch.int32), 'brand': tensor([[74]], dtype=torch.int32), 'categories': tensor([[145]], dtype=torch.int32), 'his_asin_seq': tensor([[  -100,   -100,   -100,   -100,   -100,   -100,   -100,   -100,   -100,\n",
      "           -100,   -100,   -100,   -100,   -100,   -100,   -100,   -100,   -100,\n",
      "           -100,   -100,   -100,   -100,   -100,   -100,   -100,   -100,   -100,\n",
      "           -100,   -100,   -100,   -100,   -100,   -100,   -100,   -100,   -100,\n",
      "           -100,   -100,   -100,   -100,   -100,   -100,   -100,   -100,   -100,\n",
      "           -100,   -100,   -100,   -100,   -100,   -100,   -100,   -100,   -100,\n",
      "           -100,   -100,   -100,   -100,   -100,   -100,   -100,   -100,   -100,\n",
      "           -100,   -100,   -100,   -100,   -100,   -100,   -100,   -100,   -100,\n",
      "           -100,   -100,   -100,   -100,   -100,   -100,   -100,   -100,   -100,\n",
      "           -100,   -100,   -100,   -100,   -100,   -100,   -100,   -100,   -100,\n",
      "           -100,   -100,   -100,   -100,   -100,   -100,   -100,   -100,   -100,\n",
      "           -100,   -100,   -100,   -100,   -100,   -100,   -100,   -100,   -100,\n",
      "           -100,   -100,   -100,   -100,   -100,   -100,   -100,   -100,   -100,\n",
      "           -100,   -100,   -100,   -100,   -100,   -100,   -100,   -100,   -100,\n",
      "           -100,   -100,   -100,   -100,   -100,   -100,   -100,   -100,   -100,\n",
      "           -100,   -100,   -100,   -100,   -100,   -100,   -100,   -100,   -100,\n",
      "           -100,   -100,   -100,   -100,   -100,   -100,   -100,   -100,   -100,\n",
      "           -100,   -100,   -100,   -100,   -100,   -100,   -100,   -100,   -100,\n",
      "           -100,   -100,   -100,   -100,   -100,   -100,   -100,   -100,   -100,\n",
      "           -100,   -100,   -100,   -100,   -100,   -100,   -100,   -100,   -100,\n",
      "           -100,   -100,   -100,   -100,   -100,   -100,   -100,   -100,   -100,\n",
      "           -100,   -100,   -100,   -100,   -100,   -100,   -100,   -100,   -100,\n",
      "           -100,   -100,   -100,   -100,   -100,   -100,   -100,   -100,   -100,\n",
      "           -100,   -100,   -100,   -100,   -100,   -100,   -100,   -100,   -100,\n",
      "           -100,   -100,   -100,   -100,   -100,   -100,   -100,   -100,   -100,\n",
      "           -100,   -100,   -100,   -100,   -100,   -100,   -100,   -100,   -100,\n",
      "           -100,   -100,   -100,   -100,   -100,   -100,   -100,   -100,   -100,\n",
      "           -100,   -100,   -100,   -100,   -100,   -100,   -100,   -100,   -100,\n",
      "           -100,   -100,   -100,   -100,   -100,   -100,   -100,   -100,   -100,\n",
      "           -100,   -100,   -100,   -100,   -100,   -100,   -100,   -100,   -100,\n",
      "           -100,   -100,   -100,   -100,   -100,   -100,   -100,   -100,   -100,\n",
      "           -100,   -100,   -100,   -100,   -100,   -100,   -100,   -100,   -100,\n",
      "           -100,   -100,   -100,   -100,   -100,   -100,   -100,   -100,   -100,\n",
      "           -100,   -100,   -100,   -100,   -100,   -100,   -100,   -100,   -100,\n",
      "           -100,   -100,   -100,   -100,   -100,   -100,   -100,   -100,   -100,\n",
      "           -100,   -100,   -100,   -100,   -100,   -100,   -100,   -100,   -100,\n",
      "           -100,   -100,   -100,   -100,   -100,   -100,   -100,   -100,   -100,\n",
      "           -100,   -100,   -100,   -100,   -100,   -100,   -100,   -100,   -100,\n",
      "           -100,   -100,   -100,   -100,   -100,   -100,   -100,   -100,   -100,\n",
      "           -100,   -100,   -100,   -100,   -100,   -100,   -100,   -100,   -100,\n",
      "           -100,   -100,   -100,   -100,   -100,   -100,   -100,   -100,   -100,\n",
      "           -100,   -100,   -100,   -100,   -100,   -100,   -100,   -100,   -100,\n",
      "           -100,   -100,   -100,   -100,   -100,   -100,   -100,   -100,   -100,\n",
      "           -100,   -100,   -100,   -100,   -100,   -100,   -100,   -100,   -100,\n",
      "           -100, 358151, 893410, 732109, 684704]], dtype=torch.int32)}\n",
      "tensor([[1.]])\n"
     ]
    }
   ],
   "source": [
    "print( len(train_dataloader) )\n",
    "for features, labels in DataLoader(train_dataset,batch_size=1,shuffle=True):\n",
    "    print(features)\n",
    "    print(labels)\n",
    "    break"
   ]
  },
  {
   "cell_type": "markdown",
   "metadata": {},
   "source": [
    "## Train Model"
   ]
  },
  {
   "cell_type": "code",
   "execution_count": 19,
   "metadata": {},
   "outputs": [
    {
     "name": "stderr",
     "output_type": "stream",
     "text": [
      "/Users/zuoxin/miniconda3/lib/python3.10/site-packages/torchvision/io/image.py:13: UserWarning: Failed to load image Python extension: dlopen(/Users/zuoxin/miniconda3/lib/python3.10/site-packages/torchvision/image.so, 0x0006): Symbol not found: __ZN3c106detail19maybe_wrap_dim_slowExxb\n",
      "  Referenced from: <6323D8F4-FE2A-3517-98CC-1AB05A56DDBD> /Users/zuoxin/miniconda3/lib/python3.10/site-packages/torchvision/image.so\n",
      "  Expected in:     <3AE92490-D363-3FD7-8532-CB6F5F795BC8> /Users/zuoxin/miniconda3/lib/python3.10/site-packages/torch/lib/libc10.dylib\n",
      "  warn(f\"Failed to load image Python extension: {e}\")\n"
     ]
    },
    {
     "data": {
      "text/plain": [
       "lightning.pytorch.trainer.trainer.Trainer"
      ]
     },
     "execution_count": 19,
     "metadata": {},
     "output_type": "execute_result"
    }
   ],
   "source": [
    "import lightning as L\n",
    "\n",
    "L.Trainer"
   ]
  },
  {
   "cell_type": "code",
   "execution_count": 20,
   "metadata": {},
   "outputs": [
    {
     "name": "stdout",
     "output_type": "stream",
     "text": [
      "==> Model Input: dense_size=1, sparse_size=60\n",
      "DNN(\n",
      "  (embeddings): ModuleDict(\n",
      "    (reviewerID): Embedding(1000000, 12)\n",
      "    (asin): Embedding(1000000, 12)\n",
      "    (brand): Embedding(3417, 12)\n",
      "    (categories): Embedding(800, 12)\n",
      "    (his_asin_seq): Embedding(1000000, 12)\n",
      "  )\n",
      "  (fc_layers): Sequential(\n",
      "    (0): Linear(in_features=61, out_features=128, bias=True)\n",
      "    (1): ReLU()\n",
      "    (2): Dropout(p=0.2, inplace=False)\n",
      "    (3): Linear(in_features=128, out_features=64, bias=True)\n",
      "    (4): ReLU()\n",
      "    (5): Dropout(p=0.2, inplace=False)\n",
      "    (6): Linear(in_features=64, out_features=32, bias=True)\n",
      "    (7): ReLU()\n",
      "    (8): Dropout(p=0.2, inplace=False)\n",
      "  )\n",
      "  (logits): Linear(in_features=32, out_features=1, bias=True)\n",
      ")\n"
     ]
    }
   ],
   "source": [
    "from model import DNN\n",
    "\n",
    "dnn_hidden_units = [128,64,32]\n",
    "model = DNN(feat_configs, hidden_units=dnn_hidden_units)\n",
    "model = model.to(device)\n",
    "print(model)"
   ]
  },
  {
   "cell_type": "code",
   "execution_count": 21,
   "metadata": {},
   "outputs": [],
   "source": [
    "optimizer = Adam(model.parameters(),  lr = 0.001, weight_decay = 1e-9)\n",
    "optimizer_scheduler = lr_scheduler.StepLR(optimizer, step_size=len(train_dataloader), gamma=0.7)"
   ]
  },
  {
   "cell_type": "code",
   "execution_count": 22,
   "metadata": {},
   "outputs": [
    {
     "name": "stderr",
     "output_type": "stream",
     "text": [
      "INFO:DNN:[Validation] Epoch: 0/5, Validation Loss: {'loss': 0.7198343163746831}\n",
      "INFO:DNN:Learning rate: 0.001\n",
      "INFO:DNN:[Training] Epoch: 1/5 iter 0/2642, Training Loss: {'loss': 0.7203102111816406}\n",
      "INFO:DNN:[Training] Epoch: 1/5 iter 100/2642, Training Loss: {'loss': 0.4056220284104347}\n",
      "INFO:DNN:[Training] Epoch: 1/5 iter 200/2642, Training Loss: {'loss': 0.382823161482811}\n",
      "INFO:DNN:[Training] Epoch: 1/5 iter 300/2642, Training Loss: {'loss': 0.374878002901872}\n",
      "INFO:DNN:[Training] Epoch: 1/5 iter 400/2642, Training Loss: {'loss': 0.36969825156033037}\n",
      "INFO:DNN:[Training] Epoch: 1/5 iter 500/2642, Training Loss: {'loss': 0.3680646022558212}\n",
      "INFO:DNN:[Training] Epoch: 1/5 iter 600/2642, Training Loss: {'loss': 0.36592519775032994}\n",
      "INFO:DNN:[Training] Epoch: 1/5 iter 700/2642, Training Loss: {'loss': 0.3643661046453885}\n",
      "INFO:DNN:[Training] Epoch: 1/5 iter 800/2642, Training Loss: {'loss': 0.36278667964041234}\n",
      "INFO:DNN:[Training] Epoch: 1/5 iter 900/2642, Training Loss: {'loss': 0.3613957549466027}\n",
      "INFO:DNN:[Training] Epoch: 1/5 iter 1000/2642, Training Loss: {'loss': 0.36054236632585523}\n",
      "INFO:DNN:[Training] Epoch: 1/5 iter 1100/2642, Training Loss: {'loss': 0.3596294657208703}\n",
      "INFO:DNN:[Training] Epoch: 1/5 iter 1200/2642, Training Loss: {'loss': 0.3585589572787285}\n",
      "INFO:DNN:[Training] Epoch: 1/5 iter 1300/2642, Training Loss: {'loss': 0.3581161180597085}\n",
      "INFO:DNN:[Training] Epoch: 1/5 iter 1400/2642, Training Loss: {'loss': 0.35757296370608466}\n",
      "INFO:DNN:[Training] Epoch: 1/5 iter 1500/2642, Training Loss: {'loss': 0.3570616773168246}\n",
      "INFO:DNN:[Training] Epoch: 1/5 iter 1600/2642, Training Loss: {'loss': 0.3566810091584921}\n",
      "INFO:DNN:[Training] Epoch: 1/5 iter 1700/2642, Training Loss: {'loss': 0.35622048661989325}\n",
      "INFO:DNN:[Training] Epoch: 1/5 iter 1800/2642, Training Loss: {'loss': 0.3558186082045237}\n",
      "INFO:DNN:[Training] Epoch: 1/5 iter 1900/2642, Training Loss: {'loss': 0.35549511016983737}\n",
      "INFO:DNN:[Training] Epoch: 1/5 iter 2000/2642, Training Loss: {'loss': 0.35501157677173617}\n",
      "INFO:DNN:[Training] Epoch: 1/5 iter 2100/2642, Training Loss: {'loss': 0.3543827737087295}\n",
      "INFO:DNN:[Training] Epoch: 1/5 iter 2200/2642, Training Loss: {'loss': 0.35402031496167186}\n",
      "INFO:DNN:[Training] Epoch: 1/5 iter 2300/2642, Training Loss: {'loss': 0.35356452803248944}\n",
      "INFO:DNN:[Training] Epoch: 1/5 iter 2400/2642, Training Loss: {'loss': 0.35312765817468367}\n",
      "INFO:DNN:[Training] Epoch: 1/5 iter 2500/2642, Training Loss: {'loss': 0.3527600484907627}\n",
      "INFO:DNN:[Training] Epoch: 1/5 iter 2600/2642, Training Loss: {'loss': 0.3525347831042913}\n",
      "INFO:DNN:[Validation] Epoch: 1/5, Validation Loss: {'loss': 0.340284645149773}\n",
      "INFO:DNN:Checkpoint saved at ./ckpt//checkpoint.best.2642.ckpt\n",
      "INFO:DNN:Learning rate: 0.0007\n",
      "INFO:DNN:[Training] Epoch: 2/5 iter 0/2642, Training Loss: {'loss': 0.3749639391899109}\n",
      "INFO:DNN:[Training] Epoch: 2/5 iter 100/2642, Training Loss: {'loss': 0.3476828506588936}\n",
      "INFO:DNN:[Training] Epoch: 2/5 iter 200/2642, Training Loss: {'loss': 0.34410294875502584}\n",
      "INFO:DNN:[Training] Epoch: 2/5 iter 300/2642, Training Loss: {'loss': 0.3425624708334605}\n",
      "INFO:DNN:[Training] Epoch: 2/5 iter 400/2642, Training Loss: {'loss': 0.34207493625581264}\n",
      "INFO:DNN:[Training] Epoch: 2/5 iter 500/2642, Training Loss: {'loss': 0.34168136632442475}\n",
      "INFO:DNN:[Training] Epoch: 2/5 iter 600/2642, Training Loss: {'loss': 0.3420656072596709}\n",
      "INFO:DNN:[Training] Epoch: 2/5 iter 700/2642, Training Loss: {'loss': 0.34190845693860733}\n",
      "INFO:DNN:[Training] Epoch: 2/5 iter 800/2642, Training Loss: {'loss': 0.3410613138228655}\n",
      "INFO:DNN:[Training] Epoch: 2/5 iter 900/2642, Training Loss: {'loss': 0.34063335047827825}\n",
      "INFO:DNN:[Training] Epoch: 2/5 iter 1000/2642, Training Loss: {'loss': 0.3407338650226593}\n",
      "INFO:DNN:[Training] Epoch: 2/5 iter 1100/2642, Training Loss: {'loss': 0.34081535756587983}\n",
      "INFO:DNN:[Training] Epoch: 2/5 iter 1200/2642, Training Loss: {'loss': 0.3404292853673299}\n",
      "INFO:DNN:[Training] Epoch: 2/5 iter 1300/2642, Training Loss: {'loss': 0.3402392364236025}\n",
      "INFO:DNN:[Training] Epoch: 2/5 iter 1400/2642, Training Loss: {'loss': 0.3396836419403553}\n",
      "INFO:DNN:[Training] Epoch: 2/5 iter 1500/2642, Training Loss: {'loss': 0.3397109716534615}\n",
      "INFO:DNN:[Training] Epoch: 2/5 iter 1600/2642, Training Loss: {'loss': 0.339512167070061}\n",
      "INFO:DNN:[Training] Epoch: 2/5 iter 1700/2642, Training Loss: {'loss': 0.3392318718047703}\n",
      "INFO:DNN:[Training] Epoch: 2/5 iter 1800/2642, Training Loss: {'loss': 0.3392904066377216}\n",
      "INFO:DNN:[Training] Epoch: 2/5 iter 1900/2642, Training Loss: {'loss': 0.3390971840055365}\n",
      "INFO:DNN:[Training] Epoch: 2/5 iter 2000/2642, Training Loss: {'loss': 0.3389447159767151}\n",
      "INFO:DNN:[Training] Epoch: 2/5 iter 2100/2642, Training Loss: {'loss': 0.3386205706567991}\n",
      "INFO:DNN:[Training] Epoch: 2/5 iter 2200/2642, Training Loss: {'loss': 0.33856390011581505}\n",
      "INFO:DNN:[Training] Epoch: 2/5 iter 2300/2642, Training Loss: {'loss': 0.33815284399882606}\n",
      "INFO:DNN:[Training] Epoch: 2/5 iter 2400/2642, Training Loss: {'loss': 0.3380732954169313}\n",
      "INFO:DNN:[Training] Epoch: 2/5 iter 2500/2642, Training Loss: {'loss': 0.338029039478302}\n",
      "INFO:DNN:[Training] Epoch: 2/5 iter 2600/2642, Training Loss: {'loss': 0.3378032832650038}\n",
      "INFO:DNN:[Validation] Epoch: 2/5, Validation Loss: {'loss': 0.3373324802671885}\n",
      "INFO:DNN:Checkpoint saved at ./ckpt//checkpoint.best.5284.ckpt\n",
      "INFO:DNN:Learning rate: 0.00049\n",
      "INFO:DNN:[Training] Epoch: 3/5 iter 0/2642, Training Loss: {'loss': 0.32311156392097473}\n",
      "INFO:DNN:[Training] Epoch: 3/5 iter 100/2642, Training Loss: {'loss': 0.3355824986100197}\n",
      "INFO:DNN:[Training] Epoch: 3/5 iter 200/2642, Training Loss: {'loss': 0.3324841985851526}\n",
      "INFO:DNN:[Training] Epoch: 3/5 iter 300/2642, Training Loss: {'loss': 0.33184346184134483}\n",
      "INFO:DNN:[Training] Epoch: 3/5 iter 400/2642, Training Loss: {'loss': 0.3302416961267591}\n",
      "INFO:DNN:[Training] Epoch: 3/5 iter 500/2642, Training Loss: {'loss': 0.32956714257597924}\n",
      "INFO:DNN:[Training] Epoch: 3/5 iter 600/2642, Training Loss: {'loss': 0.3301163111875455}\n",
      "INFO:DNN:[Training] Epoch: 3/5 iter 700/2642, Training Loss: {'loss': 0.330417570493051}\n",
      "INFO:DNN:[Training] Epoch: 3/5 iter 800/2642, Training Loss: {'loss': 0.33008685139939187}\n",
      "INFO:DNN:[Training] Epoch: 3/5 iter 900/2642, Training Loss: {'loss': 0.32972117577989896}\n",
      "INFO:DNN:[Training] Epoch: 3/5 iter 1000/2642, Training Loss: {'loss': 0.3293420243412256}\n",
      "INFO:DNN:[Training] Epoch: 3/5 iter 1100/2642, Training Loss: {'loss': 0.32890541061758993}\n",
      "INFO:DNN:[Training] Epoch: 3/5 iter 1200/2642, Training Loss: {'loss': 0.32852648470550777}\n",
      "INFO:DNN:[Training] Epoch: 3/5 iter 1300/2642, Training Loss: {'loss': 0.3282379836875659}\n",
      "INFO:DNN:[Training] Epoch: 3/5 iter 1400/2642, Training Loss: {'loss': 0.32799655093678404}\n",
      "INFO:DNN:[Training] Epoch: 3/5 iter 1500/2642, Training Loss: {'loss': 0.3280053972105185}\n",
      "INFO:DNN:[Training] Epoch: 3/5 iter 1600/2642, Training Loss: {'loss': 0.32746357555501165}\n",
      "INFO:DNN:[Training] Epoch: 3/5 iter 1700/2642, Training Loss: {'loss': 0.32742661960861263}\n",
      "INFO:DNN:[Training] Epoch: 3/5 iter 1800/2642, Training Loss: {'loss': 0.3272203336076604}\n",
      "INFO:DNN:[Training] Epoch: 3/5 iter 1900/2642, Training Loss: {'loss': 0.32740994234618387}\n",
      "INFO:DNN:[Training] Epoch: 3/5 iter 2000/2642, Training Loss: {'loss': 0.3272987648770213}\n",
      "INFO:DNN:[Training] Epoch: 3/5 iter 2100/2642, Training Loss: {'loss': 0.32698222464748794}\n",
      "INFO:DNN:[Training] Epoch: 3/5 iter 2200/2642, Training Loss: {'loss': 0.3269686451960694}\n",
      "INFO:DNN:[Training] Epoch: 3/5 iter 2300/2642, Training Loss: {'loss': 0.32685746274564575}\n",
      "INFO:DNN:[Training] Epoch: 3/5 iter 2400/2642, Training Loss: {'loss': 0.32693067520856856}\n",
      "INFO:DNN:[Training] Epoch: 3/5 iter 2500/2642, Training Loss: {'loss': 0.32690060675144195}\n",
      "INFO:DNN:[Training] Epoch: 3/5 iter 2600/2642, Training Loss: {'loss': 0.32671416965814737}\n",
      "INFO:DNN:[Validation] Epoch: 3/5, Validation Loss: {'loss': 0.33687750089313484}\n",
      "INFO:DNN:Checkpoint saved at ./ckpt//checkpoint.best.7926.ckpt\n",
      "INFO:DNN:Learning rate: 0.000343\n",
      "INFO:DNN:[Training] Epoch: 4/5 iter 0/2642, Training Loss: {'loss': 0.3021618127822876}\n",
      "INFO:DNN:[Training] Epoch: 4/5 iter 100/2642, Training Loss: {'loss': 0.32028126835823056}\n",
      "INFO:DNN:[Training] Epoch: 4/5 iter 200/2642, Training Loss: {'loss': 0.32032813638448715}\n",
      "INFO:DNN:[Training] Epoch: 4/5 iter 300/2642, Training Loss: {'loss': 0.318675356109937}\n",
      "INFO:DNN:[Training] Epoch: 4/5 iter 400/2642, Training Loss: {'loss': 0.31868601240217687}\n",
      "INFO:DNN:[Training] Epoch: 4/5 iter 500/2642, Training Loss: {'loss': 0.3178610956072807}\n",
      "INFO:DNN:[Training] Epoch: 4/5 iter 600/2642, Training Loss: {'loss': 0.31760344445705413}\n",
      "INFO:DNN:[Training] Epoch: 4/5 iter 700/2642, Training Loss: {'loss': 0.3172654554247856}\n",
      "INFO:DNN:[Training] Epoch: 4/5 iter 800/2642, Training Loss: {'loss': 0.31784907773137094}\n",
      "INFO:DNN:[Training] Epoch: 4/5 iter 900/2642, Training Loss: {'loss': 0.31763538546032377}\n",
      "INFO:DNN:[Training] Epoch: 4/5 iter 1000/2642, Training Loss: {'loss': 0.317559194535017}\n",
      "INFO:DNN:[Training] Epoch: 4/5 iter 1100/2642, Training Loss: {'loss': 0.31761046941984783}\n",
      "INFO:DNN:[Training] Epoch: 4/5 iter 1200/2642, Training Loss: {'loss': 0.3177819850171606}\n",
      "INFO:DNN:[Training] Epoch: 4/5 iter 1300/2642, Training Loss: {'loss': 0.3177818658374823}\n",
      "INFO:DNN:[Training] Epoch: 4/5 iter 1400/2642, Training Loss: {'loss': 0.3180011585461242}\n",
      "INFO:DNN:[Training] Epoch: 4/5 iter 1500/2642, Training Loss: {'loss': 0.31783841382463773}\n",
      "INFO:DNN:[Training] Epoch: 4/5 iter 1600/2642, Training Loss: {'loss': 0.3179568279441446}\n",
      "INFO:DNN:[Training] Epoch: 4/5 iter 1700/2642, Training Loss: {'loss': 0.3180950680638061}\n",
      "INFO:DNN:[Training] Epoch: 4/5 iter 1800/2642, Training Loss: {'loss': 0.31817609309322303}\n",
      "INFO:DNN:[Training] Epoch: 4/5 iter 1900/2642, Training Loss: {'loss': 0.3181731186493447}\n",
      "INFO:DNN:[Training] Epoch: 4/5 iter 2000/2642, Training Loss: {'loss': 0.31792354229092595}\n",
      "INFO:DNN:[Training] Epoch: 4/5 iter 2100/2642, Training Loss: {'loss': 0.3176632720799673}\n",
      "INFO:DNN:[Training] Epoch: 4/5 iter 2200/2642, Training Loss: {'loss': 0.3175624971227212}\n",
      "INFO:DNN:[Training] Epoch: 4/5 iter 2300/2642, Training Loss: {'loss': 0.3176609751322995}\n",
      "INFO:DNN:[Training] Epoch: 4/5 iter 2400/2642, Training Loss: {'loss': 0.31753123657157023}\n",
      "INFO:DNN:[Training] Epoch: 4/5 iter 2500/2642, Training Loss: {'loss': 0.3173554255723953}\n",
      "INFO:DNN:[Training] Epoch: 4/5 iter 2600/2642, Training Loss: {'loss': 0.3171607342706277}\n",
      "INFO:DNN:[Validation] Epoch: 4/5, Validation Loss: {'loss': 0.3385908979141241}\n",
      "INFO:DNN:Checkpoint saved at ./ckpt//checkpoint.10568.ckpt\n",
      "INFO:DNN:Early stopping at epoch 4...\n"
     ]
    },
    {
     "data": {
      "text/plain": [
       "DNN(\n",
       "  (embeddings): ModuleDict(\n",
       "    (reviewerID): Embedding(1000000, 12)\n",
       "    (asin): Embedding(1000000, 12)\n",
       "    (brand): Embedding(3417, 12)\n",
       "    (categories): Embedding(800, 12)\n",
       "    (his_asin_seq): Embedding(1000000, 12)\n",
       "  )\n",
       "  (fc_layers): Sequential(\n",
       "    (0): Linear(in_features=61, out_features=128, bias=True)\n",
       "    (1): ReLU()\n",
       "    (2): Dropout(p=0.2, inplace=False)\n",
       "    (3): Linear(in_features=128, out_features=64, bias=True)\n",
       "    (4): ReLU()\n",
       "    (5): Dropout(p=0.2, inplace=False)\n",
       "    (6): Linear(in_features=64, out_features=32, bias=True)\n",
       "    (7): ReLU()\n",
       "    (8): Dropout(p=0.2, inplace=False)\n",
       "  )\n",
       "  (logits): Linear(in_features=32, out_features=1, bias=True)\n",
       ")"
      ]
     },
     "execution_count": 22,
     "metadata": {},
     "output_type": "execute_result"
    }
   ],
   "source": [
    "from core.trainer import Trainer\n",
    "\n",
    "trainer = Trainer(\n",
    "    model, \n",
    "    optimizer=optimizer,\n",
    "    optimizer_scheduler=optimizer_scheduler,\n",
    "    num_epochs=5,\n",
    "    early_stopping_rounds=3,\n",
    "    save_ckpt_path='./ckpt/'\n",
    ")\n",
    "\n",
    "trainer.fit(train_dataloader, eval_dataloader = test_dataloader, ret_model = 'final')"
   ]
  },
  {
   "cell_type": "code",
   "execution_count": 31,
   "metadata": {},
   "outputs": [
    {
     "name": "stderr",
     "output_type": "stream",
     "text": [
      "INFO:DNN:Checkpoint loaded from ./ckpt//checkpoint.10568.ckpt.\n"
     ]
    },
    {
     "data": {
      "text/plain": [
       "<All keys matched successfully>"
      ]
     },
     "execution_count": 31,
     "metadata": {},
     "output_type": "execute_result"
    }
   ],
   "source": [
    "ckpt = trainer.load_ckpt('checkpoint')\n",
    "model.load_state_dict(ckpt['model_state_dict'])"
   ]
  },
  {
   "cell_type": "code",
   "execution_count": 32,
   "metadata": {},
   "outputs": [],
   "source": [
    "test_preds = []\n",
    "test_labels = []\n",
    "model.eval()\n",
    "\n",
    "for features, labels in test_dataloader:\n",
    "    outputs = model(features)\n",
    "    test_preds.append(outputs[:,0])\n",
    "    test_labels.append(labels[:,0])\n",
    "test_preds = torch.concat(test_preds, dim=0).detach().cpu().numpy()\n",
    "test_labels = torch.concat(test_labels, dim=0).detach().cpu().numpy()"
   ]
  },
  {
   "cell_type": "code",
   "execution_count": 33,
   "metadata": {},
   "outputs": [
    {
     "name": "stdout",
     "output_type": "stream",
     "text": [
      "(336650,) (336650,)\n"
     ]
    }
   ],
   "source": [
    "print(test_preds.shape, test_labels.shape)"
   ]
  },
  {
   "cell_type": "code",
   "execution_count": 34,
   "metadata": {},
   "outputs": [
    {
     "name": "stdout",
     "output_type": "stream",
     "text": [
      "AUC Score: 0.6647160201279625\n"
     ]
    }
   ],
   "source": [
    "from sklearn.metrics import roc_auc_score\n",
    "\n",
    "auc_score = roc_auc_score(test_labels, test_preds)\n",
    "print(\"AUC Score:\", auc_score)"
   ]
  },
  {
   "cell_type": "code",
   "execution_count": null,
   "metadata": {},
   "outputs": [],
   "source": []
  }
 ],
 "metadata": {
  "kernelspec": {
   "display_name": "base",
   "language": "python",
   "name": "python3"
  },
  "language_info": {
   "codemirror_mode": {
    "name": "ipython",
    "version": 3
   },
   "file_extension": ".py",
   "mimetype": "text/x-python",
   "name": "python",
   "nbconvert_exporter": "python",
   "pygments_lexer": "ipython3",
   "version": "3.10.8"
  }
 },
 "nbformat": 4,
 "nbformat_minor": 2
}
